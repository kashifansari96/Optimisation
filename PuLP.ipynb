{
 "cells": [
  {
   "cell_type": "code",
   "execution_count": 1,
   "id": "73b605c6",
   "metadata": {
    "ExecuteTime": {
     "end_time": "2023-12-13T16:55:19.071632Z",
     "start_time": "2023-12-13T16:55:14.567616Z"
    }
   },
   "outputs": [
    {
     "name": "stdout",
     "output_type": "stream",
     "text": [
      "Requirement already satisfied: pulp in /Users/schaefer/anaconda3/lib/python3.11/site-packages (2.7.0)\r\n"
     ]
    }
   ],
   "source": [
    "!pip install pulp\n",
    "import pulp"
   ]
  },
  {
   "cell_type": "markdown",
   "id": "5a26529d",
   "metadata": {},
   "source": [
    "# 1 Initialize problem"
   ]
  },
  {
   "cell_type": "code",
   "execution_count": 7,
   "id": "35119e23",
   "metadata": {
    "ExecuteTime": {
     "end_time": "2023-12-13T17:05:31.787612Z",
     "start_time": "2023-12-13T17:05:31.777601Z"
    }
   },
   "outputs": [],
   "source": [
    "model = pulp.LpProblem(\"LPModel\", pulp.LpMinimize)"
   ]
  },
  {
   "cell_type": "markdown",
   "id": "dc831f13",
   "metadata": {},
   "source": [
    "# 2 Declare decision variables"
   ]
  },
  {
   "cell_type": "code",
   "execution_count": 8,
   "id": "e849ae5b",
   "metadata": {
    "ExecuteTime": {
     "end_time": "2023-12-13T17:06:56.958943Z",
     "start_time": "2023-12-13T17:06:56.953549Z"
    }
   },
   "outputs": [],
   "source": [
    "x1 = pulp.LpVariable(\"x1\", lowBound = 0, cat=\"Continuous\") \n",
    "x2 = pulp.LpVariable(\"x2\", lowBound = 0, cat=\"Continuous\")"
   ]
  },
  {
   "cell_type": "markdown",
   "id": "09223812",
   "metadata": {},
   "source": [
    "# 3 Define objective function"
   ]
  },
  {
   "cell_type": "code",
   "execution_count": 9,
   "id": "32605420",
   "metadata": {
    "ExecuteTime": {
     "end_time": "2023-12-13T17:08:01.039462Z",
     "start_time": "2023-12-13T17:08:01.035153Z"
    }
   },
   "outputs": [],
   "source": [
    "model += -x1 + x2 "
   ]
  },
  {
   "cell_type": "markdown",
   "id": "2882fe21",
   "metadata": {},
   "source": [
    "# 4 Define constraints"
   ]
  },
  {
   "cell_type": "code",
   "execution_count": 10,
   "id": "04bf3fd3",
   "metadata": {
    "ExecuteTime": {
     "end_time": "2023-12-13T17:08:23.420886Z",
     "start_time": "2023-12-13T17:08:23.417546Z"
    }
   },
   "outputs": [],
   "source": [
    "model += -x1 + 2*x2 <= 8\n",
    "model += 2*x1 + x2 <= 14\n",
    "model += 2*x1 - x2 <= 10"
   ]
  },
  {
   "cell_type": "markdown",
   "id": "270a1fd9",
   "metadata": {},
   "source": [
    "# 5 Solve the problem"
   ]
  },
  {
   "cell_type": "code",
   "execution_count": 11,
   "id": "3f530581",
   "metadata": {
    "ExecuteTime": {
     "end_time": "2023-12-13T17:09:53.946973Z",
     "start_time": "2023-12-13T17:09:53.894820Z"
    }
   },
   "outputs": [
    {
     "name": "stdout",
     "output_type": "stream",
     "text": [
      "Welcome to the CBC MILP Solver \n",
      "Version: 2.10.3 \n",
      "Build Date: Dec 15 2019 \n",
      "\n",
      "command line - /Users/schaefer/anaconda3/lib/python3.11/site-packages/pulp/solverdir/cbc/osx/64/cbc /var/folders/kx/vr44gt9s6b96j_b0y2_ypbs80000gp/T/e2191399124848b09618d98d1088090a-pulp.mps timeMode elapsed branch printingOptions all solution /var/folders/kx/vr44gt9s6b96j_b0y2_ypbs80000gp/T/e2191399124848b09618d98d1088090a-pulp.sol (default strategy 1)\n",
      "At line 2 NAME          MODEL\n",
      "At line 3 ROWS\n",
      "At line 8 COLUMNS\n",
      "At line 17 RHS\n",
      "At line 21 BOUNDS\n",
      "At line 22 ENDATA\n",
      "Problem MODEL has 3 rows, 2 columns and 6 elements\n",
      "Coin0008I MODEL read with 0 errors\n",
      "Option for timeMode changed from cpu to elapsed\n",
      "Presolve 3 (0) rows, 2 (0) columns and 6 (0) elements\n",
      "0  Obj 0 Dual inf 0.9999999 (1)\n",
      "0  Obj 0 Dual inf 0.9999999 (1)\n",
      "1  Obj -5\n",
      "Optimal - objective value -5\n",
      "Optimal objective -5 - 1 iterations time 0.002\n",
      "Option for printingOptions changed from normal to all\n",
      "Total time (CPU seconds):       0.00   (Wallclock seconds):       0.00\n",
      "\n",
      "Solution is optimal: True\n",
      "Optimal value for x1 = 5.0\n",
      "Optimal value for x2 = 0.0\n"
     ]
    }
   ],
   "source": [
    "model.solve()\n",
    "\n",
    "if model.status == 1:\n",
    "    print(f'Solution is optimal: {pulp.constants.LpStatusOptimal == 1}' )\n",
    "    print(f'Optimal value for x1 = {x1.varValue}')\n",
    "    print(f'Optimal value for x2 = {x2.varValue}')\n",
    "else:\n",
    "    print(f'Failed to find solution: {pulp.LpStatus[model.status]}')"
   ]
  },
  {
   "cell_type": "markdown",
   "id": "10287183",
   "metadata": {},
   "source": [
    "# Weighted sum method"
   ]
  },
  {
   "cell_type": "code",
   "execution_count": 12,
   "id": "5409eb51",
   "metadata": {
    "ExecuteTime": {
     "end_time": "2023-12-13T17:17:01.311932Z",
     "start_time": "2023-12-13T17:17:01.271775Z"
    }
   },
   "outputs": [
    {
     "name": "stdout",
     "output_type": "stream",
     "text": [
      "Welcome to the CBC MILP Solver \n",
      "Version: 2.10.3 \n",
      "Build Date: Dec 15 2019 \n",
      "\n",
      "command line - /Users/schaefer/anaconda3/lib/python3.11/site-packages/pulp/solverdir/cbc/osx/64/cbc /var/folders/kx/vr44gt9s6b96j_b0y2_ypbs80000gp/T/4f97625dd6c845b4a191fa14dba6a5f6-pulp.mps timeMode elapsed branch printingOptions all solution /var/folders/kx/vr44gt9s6b96j_b0y2_ypbs80000gp/T/4f97625dd6c845b4a191fa14dba6a5f6-pulp.sol (default strategy 1)\n",
      "At line 2 NAME          MODEL\n",
      "At line 3 ROWS\n",
      "At line 8 COLUMNS\n",
      "At line 17 RHS\n",
      "At line 21 BOUNDS\n",
      "At line 22 ENDATA\n",
      "Problem MODEL has 3 rows, 2 columns and 6 elements\n",
      "Coin0008I MODEL read with 0 errors\n",
      "Option for timeMode changed from cpu to elapsed\n",
      "Presolve 3 (0) rows, 2 (0) columns and 6 (0) elements\n",
      "0  Obj 0 Dual inf 0.9999999 (1)\n",
      "0  Obj 0 Dual inf 0.9999999 (1)\n",
      "2  Obj -6\n",
      "Optimal - objective value -6\n",
      "Optimal objective -6 - 2 iterations time 0.002\n",
      "Option for printingOptions changed from normal to all\n",
      "Total time (CPU seconds):       0.00   (Wallclock seconds):       0.00\n",
      "\n",
      "Solution is optimal: True\n",
      "Optimal value for x1 = 6.0\n",
      "Optimal value for x2 = 2.0\n"
     ]
    }
   ],
   "source": [
    "weight = 0.5\n",
    "\n",
    "model = pulp.LpProblem(\"LPModel\", pulp.LpMinimize)\n",
    "\n",
    "x1 = pulp.LpVariable(\"x1\", lowBound = 0, cat=\"Continuous\") \n",
    "x2 = pulp.LpVariable(\"x2\", lowBound = 0, cat=\"Continuous\")\n",
    "\n",
    "model += weight*(-x1 - x2) + (1-weight)*(-x1+x2)\n",
    "\n",
    "model += -x1 + 2*x2 <= 8\n",
    "model += 2*x1 + x2 <= 14\n",
    "model += 2*x1 - x2 <= 10\n",
    "\n",
    "model.solve()\n",
    "\n",
    "if model.status == 1:\n",
    "    print(f'Solution is optimal: {pulp.constants.LpStatusOptimal == 1}' )\n",
    "    print(f'Optimal value for x1 = {x1.varValue}')\n",
    "    print(f'Optimal value for x2 = {x2.varValue}')\n",
    "else:\n",
    "    print(f'Failed to find solution: {pulp.LpStatus[model.status]}')"
   ]
  },
  {
   "cell_type": "markdown",
   "id": "5046f2f5",
   "metadata": {},
   "source": [
    "# Budget-constraint method"
   ]
  },
  {
   "cell_type": "code",
   "execution_count": 13,
   "id": "ef52b3c1",
   "metadata": {
    "ExecuteTime": {
     "end_time": "2023-12-13T17:23:21.538767Z",
     "start_time": "2023-12-13T17:23:21.492120Z"
    }
   },
   "outputs": [
    {
     "name": "stdout",
     "output_type": "stream",
     "text": [
      "Welcome to the CBC MILP Solver \n",
      "Version: 2.10.3 \n",
      "Build Date: Dec 15 2019 \n",
      "\n",
      "command line - /Users/schaefer/anaconda3/lib/python3.11/site-packages/pulp/solverdir/cbc/osx/64/cbc /var/folders/kx/vr44gt9s6b96j_b0y2_ypbs80000gp/T/834d06cac5624d908f5c753107d2c773-pulp.mps timeMode elapsed branch printingOptions all solution /var/folders/kx/vr44gt9s6b96j_b0y2_ypbs80000gp/T/834d06cac5624d908f5c753107d2c773-pulp.sol (default strategy 1)\n",
      "At line 2 NAME          MODEL\n",
      "At line 3 ROWS\n",
      "At line 9 COLUMNS\n",
      "At line 20 RHS\n",
      "At line 25 BOUNDS\n",
      "At line 26 ENDATA\n",
      "Problem MODEL has 4 rows, 2 columns and 8 elements\n",
      "Coin0008I MODEL read with 0 errors\n",
      "Option for timeMode changed from cpu to elapsed\n",
      "Presolve 4 (0) rows, 2 (0) columns and 8 (0) elements\n",
      "0  Obj 0 Primal inf 7.9999999 (1) Dual inf 0.9999999 (1)\n",
      "0  Obj 0 Primal inf 7.9999999 (1) Dual inf 2e+10 (2)\n",
      "2  Obj -4 Dual inf 0.2499999 (1)\n",
      "3  Obj -4\n",
      "Optimal - objective value -4\n",
      "Optimal objective -4 - 3 iterations time 0.002\n",
      "Option for printingOptions changed from normal to all\n",
      "Total time (CPU seconds):       0.00   (Wallclock seconds):       0.00\n",
      "\n",
      "Solution is optimal: True\n",
      "Optimal value for x1 = 6.0\n",
      "Optimal value for x2 = 2.0\n"
     ]
    }
   ],
   "source": [
    "model = pulp.LpProblem(\"LPModel\", pulp.LpMinimize)\n",
    "\n",
    "x1 = pulp.LpVariable(\"x1\", lowBound = 0, cat=\"Continuous\") \n",
    "x2 = pulp.LpVariable(\"x2\", lowBound = 0, cat=\"Continuous\")\n",
    "\n",
    "model += -x1 + x2\n",
    "\n",
    "model += -x1 + 2*x2 <= 8\n",
    "model += 2*x1 + x2 <= 14\n",
    "model += 2*x1 - x2 <= 10\n",
    "\n",
    "model += -x1 - x2 <= -8\n",
    "\n",
    "model.solve()\n",
    "\n",
    "if model.status == 1:\n",
    "    print(f'Solution is optimal: {pulp.constants.LpStatusOptimal == 1}' )\n",
    "    print(f'Optimal value for x1 = {x1.varValue}')\n",
    "    print(f'Optimal value for x2 = {x2.varValue}')\n",
    "else:\n",
    "    print(f'Failed to find solution: {pulp.LpStatus[model.status]}')"
   ]
  },
  {
   "cell_type": "code",
   "execution_count": null,
   "id": "6c7cd19d",
   "metadata": {},
   "outputs": [],
   "source": []
  },
  {
   "cell_type": "code",
   "execution_count": null,
   "id": "c5b43cce",
   "metadata": {},
   "outputs": [],
   "source": []
  }
 ],
 "metadata": {
  "kernelspec": {
   "display_name": "Python 3 (ipykernel)",
   "language": "python",
   "name": "python3"
  },
  "language_info": {
   "codemirror_mode": {
    "name": "ipython",
    "version": 3
   },
   "file_extension": ".py",
   "mimetype": "text/x-python",
   "name": "python",
   "nbconvert_exporter": "python",
   "pygments_lexer": "ipython3",
   "version": "3.11.5"
  },
  "toc": {
   "base_numbering": 1,
   "nav_menu": {},
   "number_sections": true,
   "sideBar": true,
   "skip_h1_title": true,
   "title_cell": "Table of Contents",
   "title_sidebar": "Contents",
   "toc_cell": false,
   "toc_position": {},
   "toc_section_display": true,
   "toc_window_display": false
  }
 },
 "nbformat": 4,
 "nbformat_minor": 5
}
